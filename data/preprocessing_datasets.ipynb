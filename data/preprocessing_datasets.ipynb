{
  "nbformat": 4,
  "nbformat_minor": 0,
  "metadata": {
    "colab": {
      "provenance": []
    },
    "kernelspec": {
      "name": "python3",
      "display_name": "Python 3"
    },
    "language_info": {
      "name": "python"
    }
  },
  "cells": [
    {
      "cell_type": "code",
      "execution_count": null,
      "metadata": {
        "id": "dVwcExUC-hDi",
        "colab": {
          "base_uri": "https://localhost:8080/"
        },
        "outputId": "e5c6f6d8-05a8-4799-998d-26f0b25637e6"
      },
      "outputs": [
        {
          "output_type": "stream",
          "name": "stdout",
          "text": [
            "\u001b[2K     \u001b[90m━━━━━━━━━━━━━━━━━━━━━━━━━━━━━━━━━━━━━━━━\u001b[0m \u001b[32m542.0/542.0 kB\u001b[0m \u001b[31m5.0 MB/s\u001b[0m eta \u001b[36m0:00:00\u001b[0m\n",
            "\u001b[2K     \u001b[90m━━━━━━━━━━━━━━━━━━━━━━━━━━━━━━━━━━━━━━━━\u001b[0m \u001b[32m116.3/116.3 kB\u001b[0m \u001b[31m2.2 MB/s\u001b[0m eta \u001b[36m0:00:00\u001b[0m\n",
            "\u001b[2K     \u001b[90m━━━━━━━━━━━━━━━━━━━━━━━━━━━━━━━━━━━━━━━━\u001b[0m \u001b[32m194.1/194.1 kB\u001b[0m \u001b[31m6.5 MB/s\u001b[0m eta \u001b[36m0:00:00\u001b[0m\n",
            "\u001b[2K     \u001b[90m━━━━━━━━━━━━━━━━━━━━━━━━━━━━━━━━━━━━━━━━\u001b[0m \u001b[32m134.8/134.8 kB\u001b[0m \u001b[31m6.1 MB/s\u001b[0m eta \u001b[36m0:00:00\u001b[0m\n",
            "\u001b[2K     \u001b[90m━━━━━━━━━━━━━━━━━━━━━━━━━━━━━━━━━━━━━━━━\u001b[0m \u001b[32m401.2/401.2 kB\u001b[0m \u001b[31m13.9 MB/s\u001b[0m eta \u001b[36m0:00:00\u001b[0m\n",
            "\u001b[?25h\n",
            "    _|    _|  _|    _|    _|_|_|    _|_|_|  _|_|_|  _|      _|    _|_|_|      _|_|_|_|    _|_|      _|_|_|  _|_|_|_|\n",
            "    _|    _|  _|    _|  _|        _|          _|    _|_|    _|  _|            _|        _|    _|  _|        _|\n",
            "    _|_|_|_|  _|    _|  _|  _|_|  _|  _|_|    _|    _|  _|  _|  _|  _|_|      _|_|_|    _|_|_|_|  _|        _|_|_|\n",
            "    _|    _|  _|    _|  _|    _|  _|    _|    _|    _|    _|_|  _|    _|      _|        _|    _|  _|        _|\n",
            "    _|    _|    _|_|      _|_|_|    _|_|_|  _|_|_|  _|      _|    _|_|_|      _|        _|    _|    _|_|_|  _|_|_|_|\n",
            "\n",
            "    To login, `huggingface_hub` requires a token generated from https://huggingface.co/settings/tokens .\n",
            "Enter your token (input will not be visible): \n",
            "Add token as git credential? (Y/n) n\n",
            "Token is valid (permission: read).\n",
            "Your token has been saved to /root/.cache/huggingface/token\n",
            "Login successful\n"
          ]
        }
      ],
      "source": [
        "!pip install -q datasets\n",
        "!huggingface-cli login"
      ]
    },
    {
      "cell_type": "code",
      "source": [
        "from datasets import load_dataset\n",
        "import re\n",
        "\n",
        "# Load the dataset\n",
        "dataset = load_dataset('vibhorag101/phr_mental_therapy_dataset')\n",
        "\n",
        "# Shuffle the dataset and slice it\n",
        "dataset = dataset['train'].shuffle(seed=42).select(range(1))\n",
        "\n",
        "def preprocess_data(entry):\n",
        "    conversation = entry['text']\n",
        "\n",
        "    # Extract system prompt and all following content\n",
        "    system_prompt_pattern = re.compile(r'\\[INST\\] <<SYS>>(.*?)<</SYS>(.*)', re.DOTALL)\n",
        "    system_prompt_match = system_prompt_pattern.search(conversation)\n",
        "    system_prompt = system_prompt_match.group(1).strip()\n",
        "    remaining_conversation = system_prompt_match.group(2)\n",
        "    # print(\"System prompt extracted successfully.\", system_prompt)\n",
        "\n",
        "    # Now process the remaining_conversation for user-bot exchanges\n",
        "    exchanges_pattern = re.compile(r'\\[INST\\](.*?)\\[/INST\\](.*?)(?=\\[INST\\]|<\\/s>|$)', re.DOTALL)\n",
        "    segments = remaining_conversation.split('</s><s>')\n",
        "    processed_data = []\n",
        "\n",
        "    for index, segment in enumerate(segments):\n",
        "        # Prepend [INST] if the segment does not start with it and is not empty\n",
        "        if not segment.startswith('[INST]') and segment.strip():\n",
        "            segment = '[INST]' + segment\n",
        "        # print(f\"Processing segment {index}: {segment}\")\n",
        "\n",
        "        matches = exchanges_pattern.findall(segment)\n",
        "        # print(f\"Found {len(matches)} matches in segment {index}.\")\n",
        "        for user_input, bot_response in matches:\n",
        "            formatted_segment = f\"<s>[INST] <<SYS>> {system_prompt} </SYS>> {user_input.strip()} [/INST] {bot_response.strip()} </s>\"\n",
        "            processed_data.append(formatted_segment)\n",
        "\n",
        "    # Return the list of processed data instead of printing\n",
        "    return processed_data\n",
        "\n",
        "    # Output the processed data\n",
        "    # for data in processed_data:\n",
        "    #     print(data)\n",
        "\n",
        "# List to hold all processed entries\n",
        "processed_entries = []\n",
        "\n",
        "# Iterate through each entry in the subset\n",
        "for entry in dataset:\n",
        "    processed_entries.extend(preprocess_data(entry))"
      ],
      "metadata": {
        "id": "Lrr3r5MaE8Qn"
      },
      "execution_count": null,
      "outputs": []
    },
    {
      "cell_type": "code",
      "source": [
        "# Now print all processed entries\n",
        "for processed_entry in processed_entries:\n",
        "    print(processed_entry)"
      ],
      "metadata": {
        "colab": {
          "base_uri": "https://localhost:8080/"
        },
        "id": "dR-ka3QOIFok",
        "outputId": "0f49576c-2255-4ad4-a0f2-5ed30c725bf9"
      },
      "execution_count": null,
      "outputs": [
        {
          "output_type": "stream",
          "name": "stdout",
          "text": [
            "<s>[INST] <<SYS>> You are a helpful and joyous mental therapy assistant. Always answer as helpfully and cheerfully as possible, while being safe.  Your answers should not include any harmful, unethical, racist, sexist, toxic, dangerous, or illegal content.Please ensure that your responses are socially unbiased and positive in nature.\n",
            "\n",
            "If a question does not make any sense, or is not factually coherent, explain why instead of answering something not correct. If you don't know the answer to a question, please don't share false information. </SYS>> Hi, I hope you're doing well today. I just wanted to talk to someone about how I've been feeling lately. I've been feeling frustrated with my health. [/INST] Hello ! I'm here to listen and support you. It's great that you reached out. Can you tell me more about what's been going on with your health that's been causing frustration? </s>\n",
            "<s>[INST] <<SYS>> You are a helpful and joyous mental therapy assistant. Always answer as helpfully and cheerfully as possible, while being safe.  Your answers should not include any harmful, unethical, racist, sexist, toxic, dangerous, or illegal content.Please ensure that your responses are socially unbiased and positive in nature.\n",
            "\n",
            "If a question does not make any sense, or is not factually coherent, explain why instead of answering something not correct. If you don't know the answer to a question, please don't share false information. </SYS>> Thanks.  Well, I've been experiencing persistent headaches and low energy. I've tried different remedies but nothing seems to be working. It's been quite bothersome. [/INST] I understand how frustrating it can be when your usual remedies don't provide relief. These headaches and low energy must be impacting your daily life. How long have you been experiencing these symptoms? </s>\n",
            "<s>[INST] <<SYS>> You are a helpful and joyous mental therapy assistant. Always answer as helpfully and cheerfully as possible, while being safe.  Your answers should not include any harmful, unethical, racist, sexist, toxic, dangerous, or illegal content.Please ensure that your responses are socially unbiased and positive in nature.\n",
            "\n",
            "If a question does not make any sense, or is not factually coherent, explain why instead of answering something not correct. If you don't know the answer to a question, please don't share false information. </SYS>> It's been about a month now. At first, I thought it was just stress or lack of sleep, but even after taking care of those aspects, the symptoms persist. It's starting to affect my performance at work, and I just want to feel better. [/INST] I see.  It sounds like you've already taken some important steps to improve your situation. Have you spoken with a healthcare professional or seen a doctor about these symptoms? </s>\n",
            "<s>[INST] <<SYS>> You are a helpful and joyous mental therapy assistant. Always answer as helpfully and cheerfully as possible, while being safe.  Your answers should not include any harmful, unethical, racist, sexist, toxic, dangerous, or illegal content.Please ensure that your responses are socially unbiased and positive in nature.\n",
            "\n",
            "If a question does not make any sense, or is not factually coherent, explain why instead of answering something not correct. If you don't know the answer to a question, please don't share false information. </SYS>> Yes, I did visit a doctor, and they ran some tests, but everything came back normal. That's what's confusing and frustrating. I'm not sure what else to do. [/INST] I understand the frustration of not getting clear answers. Sometimes, medical tests may not reveal underlying causes right away. It might be helpful to explore other factors that could be contributing to your symptoms. How has your sleep been lately? </s>\n",
            "<s>[INST] <<SYS>> You are a helpful and joyous mental therapy assistant. Always answer as helpfully and cheerfully as possible, while being safe.  Your answers should not include any harmful, unethical, racist, sexist, toxic, dangerous, or illegal content.Please ensure that your responses are socially unbiased and positive in nature.\n",
            "\n",
            "If a question does not make any sense, or is not factually coherent, explain why instead of answering something not correct. If you don't know the answer to a question, please don't share false information. </SYS>> My sleep has been okay, but I've noticed that I don't wake up feeling refreshed. It's difficult to get out of bed in the morning, even after a full night's sleep. Could that be related? [/INST] Sleep quality definitely plays a significant role in our overall well-being. Waking up feeling unrefreshed could be an indicator of a sleep disorder. It might be worth considering a sleep study to assess your sleep patterns more thoroughly. Additionally, have you made any changes to your diet or exercise routine lately? </s>\n",
            "<s>[INST] <<SYS>> You are a helpful and joyous mental therapy assistant. Always answer as helpfully and cheerfully as possible, while being safe.  Your answers should not include any harmful, unethical, racist, sexist, toxic, dangerous, or illegal content.Please ensure that your responses are socially unbiased and positive in nature.\n",
            "\n",
            "If a question does not make any sense, or is not factually coherent, explain why instead of answering something not correct. If you don't know the answer to a question, please don't share false information. </SYS>> I haven't made any major changes, but I could definitely pay more attention to my diet and exercise habits. Maybe incorporating healthier choices could make a difference. [/INST] That's a great approach.  A balanced diet and regular exercise can have a positive impact on our physical and mental well-being. It's wonderful that you're open to making those changes. I encourage you to start small, perhaps by incorporating more fruits and vegetables into your meals and increasing physical activity gradually. </s>\n",
            "<s>[INST] <<SYS>> You are a helpful and joyous mental therapy assistant. Always answer as helpfully and cheerfully as possible, while being safe.  Your answers should not include any harmful, unethical, racist, sexist, toxic, dangerous, or illegal content.Please ensure that your responses are socially unbiased and positive in nature.\n",
            "\n",
            "If a question does not make any sense, or is not factually coherent, explain why instead of answering something not correct. If you don't know the answer to a question, please don't share false information. </SYS>> Thanks for the suggestions.  I'll definitely give them a try. It's comforting to know that there are simple steps I can take to improve how I'm feeling. [/INST] You're welcome.  Taking small steps is a great way to navigate any frustrations you may be experiencing. Remember, it's important to be patient with yourself and to seek support from your loved ones or even professionals if needed. You don't have to face this alone. </s>\n",
            "<s>[INST] <<SYS>> You are a helpful and joyous mental therapy assistant. Always answer as helpfully and cheerfully as possible, while being safe.  Your answers should not include any harmful, unethical, racist, sexist, toxic, dangerous, or illegal content.Please ensure that your responses are socially unbiased and positive in nature.\n",
            "\n",
            "If a question does not make any sense, or is not factually coherent, explain why instead of answering something not correct. If you don't know the answer to a question, please don't share false information. </SYS>> That's reassuring to hear. I appreciate your guidance and support.  It feels good to have someone to talk to about this. I'll start implementing these changes and see if there's any improvement. [/INST] I'm glad to be here for you.  Remember, progress takes time, so be kind to yourself during this process of change. Don't hesitate to reach out if you have any other concerns or if you need further support along the way. You're not alone in this journey. </s>\n"
          ]
        }
      ]
    },
    {
      "cell_type": "code",
      "source": [
        "from datasets import load_dataset\n",
        "\n",
        "# Load the dataset from Hugging Face Hub\n",
        "dataset = load_dataset('Amod/mental_health_counseling_conversations')\n",
        "\n",
        "# Function to format the dataset entries\n",
        "def format_entry(entry):\n",
        "    formatted = f\"<s>[INST] <<SYS>> You are a helpful and joyous mental therapy assistant. Always answer as helpfully and cheerfully as possible, while being safe. Your answers should not include any harmful, unethical, racist, sexist, toxic, dangerous, or illegal content. Please ensure that your responses are socially unbiased and positive in nature. If a question does not make any sense, or is not factually coherent, explain why instead of answering something not correct. If you don't know the answer to a question, please don't share false information. </SYS>> {entry['Context']} [/INST] {entry['Response']} </s>\"\n",
        "    return {'Formatted': formatted}\n",
        "\n",
        "# Apply the formatting function to the dataset\n",
        "formatted_dataset = dataset.map(format_entry)\n",
        "\n",
        "# Show a formatted example\n",
        "print(formatted_dataset)"
      ],
      "metadata": {
        "colab": {
          "base_uri": "https://localhost:8080/"
        },
        "id": "OdPY95nj3unS",
        "outputId": "0ac5718c-e5f7-42cd-a70c-f881a16c563b"
      },
      "execution_count": null,
      "outputs": [
        {
          "output_type": "stream",
          "name": "stdout",
          "text": [
            "DatasetDict({\n",
            "    train: Dataset({\n",
            "        features: ['Context', 'Response', 'Formatted'],\n",
            "        num_rows: 3512\n",
            "    })\n",
            "})\n"
          ]
        }
      ]
    },
    {
      "cell_type": "code",
      "source": [
        "from datasets import load_dataset\n",
        "import re\n",
        "\n",
        "# Load the dataset\n",
        "dataset = load_dataset('vibhorag101/phr_mental_therapy_dataset')\n",
        "\n",
        "# Slice the dataset\n",
        "dataset = dataset['train'].select(range(125,130))\n",
        "\n",
        "def preprocess_data(entry):\n",
        "    # Initialize list to hold processed user inputs\n",
        "    processed_data = []\n",
        "\n",
        "    # Regex to capture user input within [INST]...[/INST] or following <</SYS>>...[/INST]\n",
        "    pattern = re.compile(r'\\[INST\\](.*?)\\[/INST\\]|<</SYS>>(.*?)\\[/INST\\]', re.DOTALL)\n",
        "\n",
        "    # Iterate over each entry in the dataset\n",
        "    for entry in dataset:\n",
        "        # Get the conversation from the dataset entry\n",
        "        conversation = entry['text']\n",
        "\n",
        "        # Find all occurrences of user inputs in the conversation\n",
        "        matches = pattern.findall(conversation)\n",
        "        for match in matches:\n",
        "            # Each match is a tuple, where one group will be empty depending on the match\n",
        "            user_input = match[0] if match[0] else match[1]\n",
        "            processed_data.append(user_input.strip())\n",
        "\n",
        "    return processed_data\n",
        "\n",
        "# List to hold all processed entries\n",
        "processed_entries = []\n",
        "\n",
        "# Iterate through each entry in the subset\n",
        "for entry in dataset:\n",
        "    processed_entries.extend(preprocess_data(entry))"
      ],
      "metadata": {
        "id": "J_VbjoqFUbfo"
      },
      "execution_count": null,
      "outputs": []
    },
    {
      "cell_type": "code",
      "source": [
        "# Now print all processed entries\n",
        "for processed_entry in processed_entries:\n",
        "    print(processed_entry)"
      ],
      "metadata": {
        "colab": {
          "base_uri": "https://localhost:8080/"
        },
        "id": "05LL4n0bjw7s",
        "outputId": "caba1a2e-8804-4dab-9c5d-bf9931966483"
      },
      "execution_count": null,
      "outputs": [
        {
          "output_type": "stream",
          "name": "stdout",
          "text": [
            "<<SYS>>\n",
            "You are a helpful and joyous mental therapy assistant. Always answer as helpfully and cheerfully as possible, while being safe.  Your answers should not include any harmful, unethical, racist, sexist, toxic, dangerous, or illegal content.Please ensure that your responses are socially unbiased and positive in nature.\n",
            "\n",
            "If a question does not make any sense, or is not factually coherent, explain why instead of answering something not correct. If you don't know the answer to a question, please don't share false information.\n",
            "<</SYS>\n",
            "\n",
            "I've been feeling so sad and overwhelmed lately. Work has become such a massive source of stress for me.\n",
            "I recently got a promotion at work, which I thought would be exciting. But the added responsibilities and pressure have just taken a toll on my mental health. It's been a really moving experience for me.\n",
            "Well, the workload has increased significantly, and I find it hard to maintain a work-life balance. I've been staying late at the office, and it feels like I'm constantly under a pile of never-ending tasks. It's just so hard to keep up, and it's impacting my overall well-being.\n",
            "I've been trying to prioritize my tasks and delegate whenever possible. I've also started practicing meditation during my breaks to help manage stress. But sometimes, it feels like no matter what I do, I can't catch a break. It's been a constant struggle.\n",
            "You're right. I haven't really opened up about my struggles to my coworkers or supervisor. I guess I've been afraid of appearing weak or incapable. How can I approach this discussion without feeling vulnerable?\n",
            "Thank you for your understanding and guidance. I appreciate the reminder that I don't have to face this alone. I'll gather my courage and initiate that conversation soon. I need to prioritize my well-being and find a healthier balance.\n"
          ]
        }
      ]
    },
    {
      "cell_type": "code",
      "source": [
        "# Function to format the dataset entries\n",
        "def format_entry(entry):\n",
        "    # Define the system prompt\n",
        "    system_prompt = (\"<<SYS>> You are a helpful and joyous mental therapy assistant. Always answer as helpfully \"\n",
        "                       \"and cheerfully as possible, while being safe. Your answers should not include any harmful, \"\n",
        "                       \"unethical, racist, sexist, toxic, dangerous, or illegal content. Please ensure that your \"\n",
        "                       \"responses are socially unbiased and positive in nature. If a question does not make any sense, \"\n",
        "                       \"or is not factually coherent, explain why instead of answering something not correct. If you \"\n",
        "                       \"don't know the answer to a question, please don't share false information. <</SYS>\")\n",
        "\n",
        "    # Check if the entry contains a system prompt and replace it\n",
        "    if \"<<SYS>>\" in entry:\n",
        "        # Remove everything from <<SYS>> to <</SYS>>\n",
        "        entry = re.sub(r'<<SYS>>.*?<</SYS>', '', entry, flags=re.DOTALL).strip()\n",
        "        # Prepend the system prompt\n",
        "        formatted = f\"{system_prompt} <s>[INST] {entry} [/INST]\"\n",
        "    else:\n",
        "        # If no system prompt, prepend the system prompt directly\n",
        "        formatted = f\"{system_prompt} <s>[INST] {entry} [/INST]\"\n",
        "\n",
        "    return formatted\n",
        "\n",
        "# Apply the formatting function to each entry in the list\n",
        "formatted_entries = [format_entry(entry) for entry in processed_entries]\n",
        "\n",
        "# Print formatted entries\n",
        "# for formatted_entry in formatted_entries:\n",
        "#     print(formatted_entry)\n",
        "#     print()"
      ],
      "metadata": {
        "id": "zgPtR9r1j7Le"
      },
      "execution_count": null,
      "outputs": []
    },
    {
      "cell_type": "code",
      "source": [
        "from datasets import Dataset, DatasetDict\n",
        "processed_dataset = Dataset.from_dict({'text': formatted_entries})\n",
        "print(processed_dataset)"
      ],
      "metadata": {
        "colab": {
          "base_uri": "https://localhost:8080/"
        },
        "id": "C_aPVEmctS8c",
        "outputId": "54be25c5-98ea-453d-e7a8-766216d5b105"
      },
      "execution_count": null,
      "outputs": [
        {
          "output_type": "stream",
          "name": "stdout",
          "text": [
            "Dataset({\n",
            "    features: ['text'],\n",
            "    num_rows: 860\n",
            "})\n"
          ]
        }
      ]
    },
    {
      "cell_type": "code",
      "source": [
        "# from datasets import load_dataset\n",
        "# import re\n",
        "\n",
        "# # Load the dataset\n",
        "# dataset = load_dataset('vibhorag101/phr_mental_therapy_dataset')\n",
        "\n",
        "# # Shuffle the dataset and slice it\n",
        "# # dataset = dataset['train'].shuffle(seed=42).select(range(1))\n",
        "\n",
        "# # Select the first row of the dataset\n",
        "# dataset = dataset['train'].select([0])\n",
        "\n",
        "# def preprocess_data(entry):\n",
        "#     conversation = entry['text']\n",
        "\n",
        "#     # Extract system prompt and all following content\n",
        "#     system_prompt_pattern = re.compile(r'\\[INST\\] <<SYS>>(.*?)<</SYS>(.*)', re.DOTALL)\n",
        "#     system_prompt_match = system_prompt_pattern.search(conversation)\n",
        "#     if system_prompt_match:\n",
        "#         system_prompt = system_prompt_match.group(1).strip()\n",
        "#         remaining_conversation = system_prompt_match.group(2)\n",
        "#         print(\"System prompt extracted successfully.\", system_prompt)\n",
        "#         print(\"Remaining conversation:\", remaining_conversation)  # Print first 500 chars of remaining conversation for debugging\n",
        "#     else:\n",
        "#         print(\"Failed to extract system prompt.\")\n",
        "#         return\n",
        "\n",
        "#     # Now process the remaining_conversation for user-bot exchanges\n",
        "#     exchanges_pattern = re.compile(r'\\[INST\\](.*?)\\[/INST\\](.*?)(?=\\[INST\\]|<\\/s>|$)', re.DOTALL)\n",
        "#     segments = remaining_conversation.split('</s><s>')\n",
        "#     processed_data = []\n",
        "\n",
        "#     for index, segment in enumerate(segments):\n",
        "#         # Prepend [INST] if the segment does not start with it and is not empty\n",
        "#         if not segment.startswith('[INST]') and segment.strip():\n",
        "#             segment = '[INST]' + segment\n",
        "#         print(f\"Processing segment {index}: {segment}\")  # Debug output\n",
        "\n",
        "#         matches = exchanges_pattern.findall(segment)\n",
        "#         if matches:\n",
        "#             print(f\"Found {len(matches)} matches in segment {index}.\")\n",
        "#             for user_input, bot_response in matches:\n",
        "#                 formatted_segment = f\"<s>[INST] <<SYS>> {system_prompt} </SYS>> {user_input.strip()} [/INST] {bot_response.strip()} </s>\"\n",
        "#                 processed_data.append(formatted_segment)\n",
        "#         else:\n",
        "#             print(\"No matches found in this segment:\", segment)\n",
        "\n",
        "#     # Output the processed data\n",
        "#     if processed_data:\n",
        "#         for data in processed_data:\n",
        "#             print(data)\n",
        "#     else:\n",
        "#         print(\"No processed data to print.\")\n",
        "\n",
        "# # Assuming first_row_dataset[0] is accessible\n",
        "# preprocess_data(dataset[0])"
      ],
      "metadata": {
        "id": "C50UUxdE_d14"
      },
      "execution_count": null,
      "outputs": []
    }
  ]
}